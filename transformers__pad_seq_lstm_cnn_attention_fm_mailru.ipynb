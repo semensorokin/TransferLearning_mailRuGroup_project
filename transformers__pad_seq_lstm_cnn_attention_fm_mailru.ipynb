{
  "nbformat": 4,
  "nbformat_minor": 0,
  "metadata": {
    "kernelspec": {
      "name": "python3",
      "display_name": "Python 3"
    },
    "language_info": {
      "codemirror_mode": {
        "name": "ipython",
        "version": 3
      },
      "file_extension": ".py",
      "mimetype": "text/x-python",
      "name": "python",
      "nbconvert_exporter": "python",
      "pygments_lexer": "ipython3",
      "version": "3.6.6"
    },
    "colab": {
      "name": "transformers_ pag_seq_lstm_cnn_attention_fm_mailru.ipynb",
      "provenance": []
    },
    "accelerator": "GPU",
    "widgets": {
      "application/vnd.jupyter.widget-state+json": {
        "bdef86d9acba4024841b1acb64929b6f": {
          "model_module": "@jupyter-widgets/controls",
          "model_name": "HBoxModel",
          "state": {
            "_view_name": "HBoxView",
            "_dom_classes": [],
            "_model_name": "HBoxModel",
            "_view_module": "@jupyter-widgets/controls",
            "_model_module_version": "1.5.0",
            "_view_count": null,
            "_view_module_version": "1.5.0",
            "box_style": "",
            "layout": "IPY_MODEL_9f43bf94fca74aa5a68ae75e5600a32d",
            "_model_module": "@jupyter-widgets/controls",
            "children": [
              "IPY_MODEL_4ff1349bba7b4705bc27316d8d3809bf",
              "IPY_MODEL_28f2ae6e0c224e848d83c9a2e3ff4480"
            ]
          }
        },
        "9f43bf94fca74aa5a68ae75e5600a32d": {
          "model_module": "@jupyter-widgets/base",
          "model_name": "LayoutModel",
          "state": {
            "_view_name": "LayoutView",
            "grid_template_rows": null,
            "right": null,
            "justify_content": null,
            "_view_module": "@jupyter-widgets/base",
            "overflow": null,
            "_model_module_version": "1.2.0",
            "_view_count": null,
            "flex_flow": null,
            "width": null,
            "min_width": null,
            "border": null,
            "align_items": null,
            "bottom": null,
            "_model_module": "@jupyter-widgets/base",
            "top": null,
            "grid_column": null,
            "overflow_y": null,
            "overflow_x": null,
            "grid_auto_flow": null,
            "grid_area": null,
            "grid_template_columns": null,
            "flex": null,
            "_model_name": "LayoutModel",
            "justify_items": null,
            "grid_row": null,
            "max_height": null,
            "align_content": null,
            "visibility": null,
            "align_self": null,
            "height": null,
            "min_height": null,
            "padding": null,
            "grid_auto_rows": null,
            "grid_gap": null,
            "max_width": null,
            "order": null,
            "_view_module_version": "1.2.0",
            "grid_template_areas": null,
            "object_position": null,
            "object_fit": null,
            "grid_auto_columns": null,
            "margin": null,
            "display": null,
            "left": null
          }
        },
        "4ff1349bba7b4705bc27316d8d3809bf": {
          "model_module": "@jupyter-widgets/controls",
          "model_name": "IntProgressModel",
          "state": {
            "_view_name": "ProgressView",
            "style": "IPY_MODEL_2eab9b92f329412abd5f11137659cd59",
            "_dom_classes": [],
            "description": "Downloading",
            "_model_name": "IntProgressModel",
            "bar_style": "success",
            "max": 871891,
            "_view_module": "@jupyter-widgets/controls",
            "_model_module_version": "1.5.0",
            "value": 871891,
            "_view_count": null,
            "_view_module_version": "1.5.0",
            "orientation": "horizontal",
            "min": 0,
            "description_tooltip": null,
            "_model_module": "@jupyter-widgets/controls",
            "layout": "IPY_MODEL_1a62b8b0db7a42d084e3bb2a05eba766"
          }
        },
        "28f2ae6e0c224e848d83c9a2e3ff4480": {
          "model_module": "@jupyter-widgets/controls",
          "model_name": "HTMLModel",
          "state": {
            "_view_name": "HTMLView",
            "style": "IPY_MODEL_4a0105baae184a59a9c8d6d5a30b96b9",
            "_dom_classes": [],
            "description": "",
            "_model_name": "HTMLModel",
            "placeholder": "​",
            "_view_module": "@jupyter-widgets/controls",
            "_model_module_version": "1.5.0",
            "value": "100% 872k/872k [00:00&lt;00:00, 1.74MB/s]",
            "_view_count": null,
            "_view_module_version": "1.5.0",
            "description_tooltip": null,
            "_model_module": "@jupyter-widgets/controls",
            "layout": "IPY_MODEL_74be24024e1149e981579cb1d796f654"
          }
        },
        "2eab9b92f329412abd5f11137659cd59": {
          "model_module": "@jupyter-widgets/controls",
          "model_name": "ProgressStyleModel",
          "state": {
            "_view_name": "StyleView",
            "_model_name": "ProgressStyleModel",
            "description_width": "initial",
            "_view_module": "@jupyter-widgets/base",
            "_model_module_version": "1.5.0",
            "_view_count": null,
            "_view_module_version": "1.2.0",
            "bar_color": null,
            "_model_module": "@jupyter-widgets/controls"
          }
        },
        "1a62b8b0db7a42d084e3bb2a05eba766": {
          "model_module": "@jupyter-widgets/base",
          "model_name": "LayoutModel",
          "state": {
            "_view_name": "LayoutView",
            "grid_template_rows": null,
            "right": null,
            "justify_content": null,
            "_view_module": "@jupyter-widgets/base",
            "overflow": null,
            "_model_module_version": "1.2.0",
            "_view_count": null,
            "flex_flow": null,
            "width": null,
            "min_width": null,
            "border": null,
            "align_items": null,
            "bottom": null,
            "_model_module": "@jupyter-widgets/base",
            "top": null,
            "grid_column": null,
            "overflow_y": null,
            "overflow_x": null,
            "grid_auto_flow": null,
            "grid_area": null,
            "grid_template_columns": null,
            "flex": null,
            "_model_name": "LayoutModel",
            "justify_items": null,
            "grid_row": null,
            "max_height": null,
            "align_content": null,
            "visibility": null,
            "align_self": null,
            "height": null,
            "min_height": null,
            "padding": null,
            "grid_auto_rows": null,
            "grid_gap": null,
            "max_width": null,
            "order": null,
            "_view_module_version": "1.2.0",
            "grid_template_areas": null,
            "object_position": null,
            "object_fit": null,
            "grid_auto_columns": null,
            "margin": null,
            "display": null,
            "left": null
          }
        },
        "4a0105baae184a59a9c8d6d5a30b96b9": {
          "model_module": "@jupyter-widgets/controls",
          "model_name": "DescriptionStyleModel",
          "state": {
            "_view_name": "StyleView",
            "_model_name": "DescriptionStyleModel",
            "description_width": "",
            "_view_module": "@jupyter-widgets/base",
            "_model_module_version": "1.5.0",
            "_view_count": null,
            "_view_module_version": "1.2.0",
            "_model_module": "@jupyter-widgets/controls"
          }
        },
        "74be24024e1149e981579cb1d796f654": {
          "model_module": "@jupyter-widgets/base",
          "model_name": "LayoutModel",
          "state": {
            "_view_name": "LayoutView",
            "grid_template_rows": null,
            "right": null,
            "justify_content": null,
            "_view_module": "@jupyter-widgets/base",
            "overflow": null,
            "_model_module_version": "1.2.0",
            "_view_count": null,
            "flex_flow": null,
            "width": null,
            "min_width": null,
            "border": null,
            "align_items": null,
            "bottom": null,
            "_model_module": "@jupyter-widgets/base",
            "top": null,
            "grid_column": null,
            "overflow_y": null,
            "overflow_x": null,
            "grid_auto_flow": null,
            "grid_area": null,
            "grid_template_columns": null,
            "flex": null,
            "_model_name": "LayoutModel",
            "justify_items": null,
            "grid_row": null,
            "max_height": null,
            "align_content": null,
            "visibility": null,
            "align_self": null,
            "height": null,
            "min_height": null,
            "padding": null,
            "grid_auto_rows": null,
            "grid_gap": null,
            "max_width": null,
            "order": null,
            "_view_module_version": "1.2.0",
            "grid_template_areas": null,
            "object_position": null,
            "object_fit": null,
            "grid_auto_columns": null,
            "margin": null,
            "display": null,
            "left": null
          }
        }
      }
    }
  },
  "cells": [
    {
      "cell_type": "code",
      "metadata": {
        "id": "TosyIB8ZQzH3",
        "colab_type": "code",
        "colab": {}
      },
      "source": [
        "!pip install -U -q PyDrive\n",
        "from pydrive.auth import GoogleAuth\n",
        "from pydrive.drive import GoogleDrive\n",
        "from google.colab import auth\n",
        "from oauth2client.client import GoogleCredentials\n",
        "auth.authenticate_user()\n",
        "gauth = GoogleAuth()\n",
        "gauth.credentials = GoogleCredentials.get_application_default()\n",
        "drive = GoogleDrive(gauth)"
      ],
      "execution_count": 0,
      "outputs": []
    },
    {
      "cell_type": "code",
      "metadata": {
        "_uuid": "8f2839f25d086af736a60e9eeb907d3b93b6e0e5",
        "_cell_guid": "b1076dfc-b9ad-4769-8c92-a6c4dae69d19",
        "trusted": true,
        "colab_type": "code",
        "id": "J3vI12ATXMUc",
        "colab": {}
      },
      "source": [
        "import numpy as np \n",
        "import pandas as pd \n",
        "import json\n",
        "import plotly.express as px\n",
        "import seaborn as sns\n",
        "from matplotlib import pyplot as plt\n",
        "from nltk.tokenize import wordpunct_tokenize\n",
        "from tqdm import tqdm"
      ],
      "execution_count": 0,
      "outputs": []
    },
    {
      "cell_type": "code",
      "metadata": {
        "id": "tNAUuVd7Q5JI",
        "colab_type": "code",
        "outputId": "6c127964-404b-4393-df31-eff54fd0d88e",
        "colab": {
          "base_uri": "https://localhost:8080/",
          "height": 51
        }
      },
      "source": [
        "%time\n",
        "from zipfile import ZipFile\n",
        "\n",
        "downloaded_train = drive.CreateFile({'id':'10qtOKBsGFQlZ6YzQxV30uHT7truULE1E'}) \n",
        "downloaded_train.GetContentFile('train.csv.zip')\n",
        "\n",
        "with ZipFile('train.csv.zip', 'r') as zipObj:\n",
        "   zipObj.extractall()\n",
        "\n",
        "down_main_cat_map = drive.CreateFile({'id': '1l70MFuRBb7IgaVn6hrx0_X3lU0_q0B7C'}) \n",
        "down_main_cat_map.GetContentFile('main_category_mapper.json')\n",
        "\n",
        "downloaded_unsupervised = drive.CreateFile({'id':'1vTeZFDl4ugkRv_6mUCl7gJk8DMnE8ECB'}) \n",
        "downloaded_unsupervised.GetContentFile('unsupervised.csv.zip')\n",
        "\n",
        "with ZipFile('unsupervised.csv.zip', 'r') as zipObj:\n",
        "   zipObj.extractall()\n",
        "\n",
        "down_sub_cat_map = drive.CreateFile({'id': '1SJhd1yLU2V6eKGKI_R7Gw0ybGC9RaxJu'}) \n",
        "down_sub_cat_map.GetContentFile('sub_category_mapper.json')"
      ],
      "execution_count": 0,
      "outputs": [
        {
          "output_type": "stream",
          "text": [
            "CPU times: user 3 µs, sys: 0 ns, total: 3 µs\n",
            "Wall time: 8.11 µs\n"
          ],
          "name": "stdout"
        }
      ]
    },
    {
      "cell_type": "code",
      "metadata": {
        "trusted": true,
        "id": "jXnIZ7SaHxHS",
        "colab_type": "code",
        "colab": {}
      },
      "source": [
        "train = pd.read_csv('train.csv')"
      ],
      "execution_count": 0,
      "outputs": []
    },
    {
      "cell_type": "code",
      "metadata": {
        "id": "tMnIDWL_4gMo",
        "colab_type": "code",
        "colab": {}
      },
      "source": [
        "downloaded_sub = drive.CreateFile({'id':'1QqoCIhAJlMxW5_TSaNnOUU08civyHWOP'}) \n",
        "downloaded_sub.GetContentFile('test.csv')"
      ],
      "execution_count": 0,
      "outputs": []
    },
    {
      "cell_type": "code",
      "metadata": {
        "id": "FlJwLkUeYOr2",
        "colab_type": "code",
        "outputId": "9674360c-17f0-48e6-c239-e018199f3175",
        "colab": {
          "base_uri": "https://localhost:8080/",
          "height": 204
        }
      },
      "source": [
        "test = pd.read_csv('test.csv')\n",
        "test.head()"
      ],
      "execution_count": 0,
      "outputs": [
        {
          "output_type": "execute_result",
          "data": {
            "text/html": [
              "<div>\n",
              "<style scoped>\n",
              "    .dataframe tbody tr th:only-of-type {\n",
              "        vertical-align: middle;\n",
              "    }\n",
              "\n",
              "    .dataframe tbody tr th {\n",
              "        vertical-align: top;\n",
              "    }\n",
              "\n",
              "    .dataframe thead th {\n",
              "        text-align: right;\n",
              "    }\n",
              "</style>\n",
              "<table border=\"1\" class=\"dataframe\">\n",
              "  <thead>\n",
              "    <tr style=\"text-align: right;\">\n",
              "      <th></th>\n",
              "      <th>index</th>\n",
              "      <th>question</th>\n",
              "    </tr>\n",
              "  </thead>\n",
              "  <tbody>\n",
              "    <tr>\n",
              "      <th>0</th>\n",
              "      <td>0</td>\n",
              "      <td>Подскажите сайт российский, вещи заказывать: )...</td>\n",
              "    </tr>\n",
              "    <tr>\n",
              "      <th>1</th>\n",
              "      <td>1</td>\n",
              "      <td>Как заказать Рикардо Милоса в Москве?</td>\n",
              "    </tr>\n",
              "    <tr>\n",
              "      <th>2</th>\n",
              "      <td>2</td>\n",
              "      <td>Пустят ли меня в Израиль, если я работаю в ОАЭ?</td>\n",
              "    </tr>\n",
              "    <tr>\n",
              "      <th>3</th>\n",
              "      <td>3</td>\n",
              "      <td>почему о наличии пальмового масла и консервато...</td>\n",
              "    </tr>\n",
              "    <tr>\n",
              "      <th>4</th>\n",
              "      <td>4</td>\n",
              "      <td>Вот во всех бедах России винят правительство.....</td>\n",
              "    </tr>\n",
              "  </tbody>\n",
              "</table>\n",
              "</div>"
            ],
            "text/plain": [
              "   index                                           question\n",
              "0      0  Подскажите сайт российский, вещи заказывать: )...\n",
              "1      1              Как заказать Рикардо Милоса в Москве?\n",
              "2      2    Пустят ли меня в Израиль, если я работаю в ОАЭ?\n",
              "3      3  почему о наличии пальмового масла и консервато...\n",
              "4      4  Вот во всех бедах России винят правительство....."
            ]
          },
          "metadata": {
            "tags": []
          },
          "execution_count": 6
        }
      ]
    },
    {
      "cell_type": "code",
      "metadata": {
        "id": "z95k9xPSCj2N",
        "colab_type": "code",
        "colab": {}
      },
      "source": [
        "import re\n",
        "def filter_ru_en_words(x):\n",
        "  x = ' '.join(re.findall('[a-zа-яё0-9]+', x.lower()))\n",
        "  x = re.sub('[0-9]+', ' число ', x)\n",
        "  x = re.sub('ё', 'е', x)\n",
        "  x = re.sub('\\s+', ' ', x)\n",
        "  return x\n",
        "train['w_cl'] = train.question.apply(filter_ru_en_words)"
      ],
      "execution_count": 0,
      "outputs": []
    },
    {
      "cell_type": "code",
      "metadata": {
        "id": "ozJg0-ZhKN9t",
        "colab_type": "code",
        "outputId": "43c3e6e6-bb41-49db-d4b3-f8d42d3ffd04",
        "colab": {
          "base_uri": "https://localhost:8080/",
          "height": 85
        }
      },
      "source": [
        "!pip install pymorphy2"
      ],
      "execution_count": 0,
      "outputs": [
        {
          "output_type": "stream",
          "text": [
            "Requirement already satisfied: pymorphy2 in /usr/local/lib/python3.6/dist-packages (0.8)\n",
            "Requirement already satisfied: dawg-python>=0.7 in /usr/local/lib/python3.6/dist-packages (from pymorphy2) (0.7.2)\n",
            "Requirement already satisfied: pymorphy2-dicts<3.0,>=2.4 in /usr/local/lib/python3.6/dist-packages (from pymorphy2) (2.4.393442.3710985)\n",
            "Requirement already satisfied: docopt>=0.6 in /usr/local/lib/python3.6/dist-packages (from pymorphy2) (0.6.2)\n"
          ],
          "name": "stdout"
        }
      ]
    },
    {
      "cell_type": "code",
      "metadata": {
        "id": "oABU1BZ1KVxa",
        "colab_type": "code",
        "outputId": "12f68efc-315e-457a-c42d-90a18cfc3b4c",
        "colab": {
          "base_uri": "https://localhost:8080/",
          "height": 34
        }
      },
      "source": [
        "import pymorphy2\n",
        "\n",
        "morph = pymorphy2.MorphAnalyzer()\n",
        "words = [j for i in train.w_cl.tolist() for j in i.split(' ')]\n",
        "to_norm_form = { i: morph.parse(i)[0].normal_form for i in list(set(words))}\n",
        "\n",
        "print('Vocab_size :', len(list(set(to_norm_form.values()))))"
      ],
      "execution_count": 0,
      "outputs": [
        {
          "output_type": "stream",
          "text": [
            "Vocab_size : 157775\n"
          ],
          "name": "stdout"
        }
      ]
    },
    {
      "cell_type": "code",
      "metadata": {
        "id": "2xx_kKDNK80R",
        "colab_type": "code",
        "colab": {}
      },
      "source": [
        "def normalize(x):\n",
        "  return ' '.join([to_norm_form[i] if i in to_norm_form else i for i in x.split(' ')])\n",
        "\n",
        "train['norm_question'] = train.w_cl.apply(normalize)"
      ],
      "execution_count": 0,
      "outputs": []
    },
    {
      "cell_type": "code",
      "metadata": {
        "id": "jrPzRd-C4DUc",
        "colab_type": "code",
        "colab": {}
      },
      "source": [
        "import torch\n",
        "from torch.utils.data import Dataset, DataLoader\n",
        "\n",
        "from nltk.tokenize import word_tokenize, wordpunct_tokenize\n",
        "from tqdm import tqdm\n",
        "\n",
        "from sklearn.model_selection import train_test_split\n",
        "from sklearn.metrics import f1_score"
      ],
      "execution_count": 0,
      "outputs": []
    },
    {
      "cell_type": "code",
      "metadata": {
        "id": "-HOTgqqqP9zV",
        "colab_type": "code",
        "outputId": "a33dcfda-8061-4314-9e11-6a9e6070fd9b",
        "colab": {
          "base_uri": "https://localhost:8080/",
          "height": 663
        }
      },
      "source": [
        "!pip install transformers"
      ],
      "execution_count": 0,
      "outputs": [
        {
          "output_type": "stream",
          "text": [
            "Collecting transformers\n",
            "\u001b[?25l  Downloading https://files.pythonhosted.org/packages/d1/08/4a6768ca1a7a4fa37e5ee08077c5d02b8d83876bd36caa5fc24d98992ac2/transformers-2.2.2-py3-none-any.whl (387kB)\n",
            "\r\u001b[K     |▉                               | 10kB 21.9MB/s eta 0:00:01\r\u001b[K     |█▊                              | 20kB 4.5MB/s eta 0:00:01\r\u001b[K     |██▌                             | 30kB 6.3MB/s eta 0:00:01\r\u001b[K     |███▍                            | 40kB 8.1MB/s eta 0:00:01\r\u001b[K     |████▎                           | 51kB 5.3MB/s eta 0:00:01\r\u001b[K     |█████                           | 61kB 6.2MB/s eta 0:00:01\r\u001b[K     |██████                          | 71kB 7.0MB/s eta 0:00:01\r\u001b[K     |██████▊                         | 81kB 7.8MB/s eta 0:00:01\r\u001b[K     |███████▋                        | 92kB 8.6MB/s eta 0:00:01\r\u001b[K     |████████▌                       | 102kB 6.9MB/s eta 0:00:01\r\u001b[K     |█████████▎                      | 112kB 6.9MB/s eta 0:00:01\r\u001b[K     |██████████▏                     | 122kB 6.9MB/s eta 0:00:01\r\u001b[K     |███████████                     | 133kB 6.9MB/s eta 0:00:01\r\u001b[K     |███████████▉                    | 143kB 6.9MB/s eta 0:00:01\r\u001b[K     |████████████▊                   | 153kB 6.9MB/s eta 0:00:01\r\u001b[K     |█████████████▌                  | 163kB 6.9MB/s eta 0:00:01\r\u001b[K     |██████████████▍                 | 174kB 6.9MB/s eta 0:00:01\r\u001b[K     |███████████████▏                | 184kB 6.9MB/s eta 0:00:01\r\u001b[K     |████████████████                | 194kB 6.9MB/s eta 0:00:01\r\u001b[K     |█████████████████               | 204kB 6.9MB/s eta 0:00:01\r\u001b[K     |█████████████████▊              | 215kB 6.9MB/s eta 0:00:01\r\u001b[K     |██████████████████▋             | 225kB 6.9MB/s eta 0:00:01\r\u001b[K     |███████████████████▌            | 235kB 6.9MB/s eta 0:00:01\r\u001b[K     |████████████████████▎           | 245kB 6.9MB/s eta 0:00:01\r\u001b[K     |█████████████████████▏          | 256kB 6.9MB/s eta 0:00:01\r\u001b[K     |██████████████████████          | 266kB 6.9MB/s eta 0:00:01\r\u001b[K     |██████████████████████▉         | 276kB 6.9MB/s eta 0:00:01\r\u001b[K     |███████████████████████▊        | 286kB 6.9MB/s eta 0:00:01\r\u001b[K     |████████████████████████▌       | 296kB 6.9MB/s eta 0:00:01\r\u001b[K     |█████████████████████████▍      | 307kB 6.9MB/s eta 0:00:01\r\u001b[K     |██████████████████████████▏     | 317kB 6.9MB/s eta 0:00:01\r\u001b[K     |███████████████████████████     | 327kB 6.9MB/s eta 0:00:01\r\u001b[K     |████████████████████████████    | 337kB 6.9MB/s eta 0:00:01\r\u001b[K     |████████████████████████████▊   | 348kB 6.9MB/s eta 0:00:01\r\u001b[K     |█████████████████████████████▋  | 358kB 6.9MB/s eta 0:00:01\r\u001b[K     |██████████████████████████████▍ | 368kB 6.9MB/s eta 0:00:01\r\u001b[K     |███████████████████████████████▎| 378kB 6.9MB/s eta 0:00:01\r\u001b[K     |████████████████████████████████| 389kB 6.9MB/s \n",
            "\u001b[?25hRequirement already satisfied: numpy in /usr/local/lib/python3.6/dist-packages (from transformers) (1.17.4)\n",
            "Requirement already satisfied: boto3 in /usr/local/lib/python3.6/dist-packages (from transformers) (1.10.36)\n",
            "Requirement already satisfied: requests in /usr/local/lib/python3.6/dist-packages (from transformers) (2.21.0)\n",
            "Collecting sentencepiece\n",
            "\u001b[?25l  Downloading https://files.pythonhosted.org/packages/74/f4/2d5214cbf13d06e7cb2c20d84115ca25b53ea76fa1f0ade0e3c9749de214/sentencepiece-0.1.85-cp36-cp36m-manylinux1_x86_64.whl (1.0MB)\n",
            "\u001b[K     |████████████████████████████████| 1.0MB 45.2MB/s \n",
            "\u001b[?25hCollecting sacremoses\n",
            "\u001b[?25l  Downloading https://files.pythonhosted.org/packages/1f/8e/ed5364a06a9ba720fddd9820155cc57300d28f5f43a6fd7b7e817177e642/sacremoses-0.0.35.tar.gz (859kB)\n",
            "\u001b[K     |████████████████████████████████| 860kB 40.4MB/s \n",
            "\u001b[?25hCollecting regex\n",
            "\u001b[?25l  Downloading https://files.pythonhosted.org/packages/8c/db/4b29a0adec5881542cd81cb5d1929b5c0787003c5740b3c921e627d9c2e5/regex-2019.12.9.tar.gz (669kB)\n",
            "\u001b[K     |████████████████████████████████| 675kB 41.1MB/s \n",
            "\u001b[?25hRequirement already satisfied: tqdm in /usr/local/lib/python3.6/dist-packages (from transformers) (4.28.1)\n",
            "Requirement already satisfied: botocore<1.14.0,>=1.13.36 in /usr/local/lib/python3.6/dist-packages (from boto3->transformers) (1.13.36)\n",
            "Requirement already satisfied: jmespath<1.0.0,>=0.7.1 in /usr/local/lib/python3.6/dist-packages (from boto3->transformers) (0.9.4)\n",
            "Requirement already satisfied: s3transfer<0.3.0,>=0.2.0 in /usr/local/lib/python3.6/dist-packages (from boto3->transformers) (0.2.1)\n",
            "Requirement already satisfied: urllib3<1.25,>=1.21.1 in /usr/local/lib/python3.6/dist-packages (from requests->transformers) (1.24.3)\n",
            "Requirement already satisfied: certifi>=2017.4.17 in /usr/local/lib/python3.6/dist-packages (from requests->transformers) (2019.11.28)\n",
            "Requirement already satisfied: idna<2.9,>=2.5 in /usr/local/lib/python3.6/dist-packages (from requests->transformers) (2.8)\n",
            "Requirement already satisfied: chardet<3.1.0,>=3.0.2 in /usr/local/lib/python3.6/dist-packages (from requests->transformers) (3.0.4)\n",
            "Requirement already satisfied: six in /usr/local/lib/python3.6/dist-packages (from sacremoses->transformers) (1.12.0)\n",
            "Requirement already satisfied: click in /usr/local/lib/python3.6/dist-packages (from sacremoses->transformers) (7.0)\n",
            "Requirement already satisfied: joblib in /usr/local/lib/python3.6/dist-packages (from sacremoses->transformers) (0.14.1)\n",
            "Requirement already satisfied: docutils<0.16,>=0.10 in /usr/local/lib/python3.6/dist-packages (from botocore<1.14.0,>=1.13.36->boto3->transformers) (0.15.2)\n",
            "Requirement already satisfied: python-dateutil<2.8.1,>=2.1; python_version >= \"2.7\" in /usr/local/lib/python3.6/dist-packages (from botocore<1.14.0,>=1.13.36->boto3->transformers) (2.6.1)\n",
            "Building wheels for collected packages: sacremoses, regex\n",
            "  Building wheel for sacremoses (setup.py) ... \u001b[?25l\u001b[?25hdone\n",
            "  Created wheel for sacremoses: filename=sacremoses-0.0.35-cp36-none-any.whl size=883999 sha256=66033d58855fd1511909a71421b7b19ac9ad1a23534e25324a910ab00cb0b7ad\n",
            "  Stored in directory: /root/.cache/pip/wheels/63/2a/db/63e2909042c634ef551d0d9ac825b2b0b32dede4a6d87ddc94\n",
            "  Building wheel for regex (setup.py) ... \u001b[?25l\u001b[?25hdone\n",
            "  Created wheel for regex: filename=regex-2019.12.9-cp36-cp36m-linux_x86_64.whl size=609171 sha256=82d62c11abc6c96db68c7a21956ba0b5d592b05b1af41f97584cb6043c34de03\n",
            "  Stored in directory: /root/.cache/pip/wheels/0d/fb/b3/a89169557229468c49ca64f6839418f22461f6ee0a74f342b1\n",
            "Successfully built sacremoses regex\n",
            "Installing collected packages: sentencepiece, sacremoses, regex, transformers\n",
            "Successfully installed regex-2019.12.9 sacremoses-0.0.35 sentencepiece-0.1.85 transformers-2.2.2\n"
          ],
          "name": "stdout"
        }
      ]
    },
    {
      "cell_type": "code",
      "metadata": {
        "id": "Px8fNxj3P8FV",
        "colab_type": "code",
        "outputId": "a58dc482-2236-4b4d-ef0e-c6e4ccd2a777",
        "colab": {
          "base_uri": "https://localhost:8080/",
          "height": 63
        }
      },
      "source": [
        "import torch\n",
        "from transformers import *"
      ],
      "execution_count": 0,
      "outputs": [
        {
          "output_type": "display_data",
          "data": {
            "text/html": [
              "<p style=\"color: red;\">\n",
              "The default version of TensorFlow in Colab will soon switch to TensorFlow 2.x.<br>\n",
              "We recommend you <a href=\"https://www.tensorflow.org/guide/migrate\" target=\"_blank\">upgrade</a> now \n",
              "or ensure your notebook will continue to use TensorFlow 1.x via the <code>%tensorflow_version 1.x</code> magic:\n",
              "<a href=\"https://colab.research.google.com/notebooks/tensorflow_version.ipynb\" target=\"_blank\">more info</a>.</p>\n"
            ],
            "text/plain": [
              "<IPython.core.display.HTML object>"
            ]
          },
          "metadata": {
            "tags": []
          }
        }
      ]
    },
    {
      "cell_type": "code",
      "metadata": {
        "id": "9B_Rvc0mQkfM",
        "colab_type": "code",
        "outputId": "c8b7f913-537c-4525-c2b7-4034bfe29b21",
        "colab": {
          "base_uri": "https://localhost:8080/",
          "height": 66,
          "referenced_widgets": [
            "bdef86d9acba4024841b1acb64929b6f",
            "9f43bf94fca74aa5a68ae75e5600a32d",
            "4ff1349bba7b4705bc27316d8d3809bf",
            "28f2ae6e0c224e848d83c9a2e3ff4480",
            "2eab9b92f329412abd5f11137659cd59",
            "1a62b8b0db7a42d084e3bb2a05eba766",
            "4a0105baae184a59a9c8d6d5a30b96b9",
            "74be24024e1149e981579cb1d796f654"
          ]
        }
      },
      "source": [
        "tokenizer = BertTokenizer.from_pretrained('bert-base-multilingual-uncased')"
      ],
      "execution_count": 0,
      "outputs": [
        {
          "output_type": "display_data",
          "data": {
            "application/vnd.jupyter.widget-view+json": {
              "model_id": "bdef86d9acba4024841b1acb64929b6f",
              "version_minor": 0,
              "version_major": 2
            },
            "text/plain": [
              "HBox(children=(IntProgress(value=0, description='Downloading', max=871891, style=ProgressStyle(description_wid…"
            ]
          },
          "metadata": {
            "tags": []
          }
        },
        {
          "output_type": "stream",
          "text": [
            "\n"
          ],
          "name": "stdout"
        }
      ]
    },
    {
      "cell_type": "code",
      "metadata": {
        "id": "yqz2hvNGpceZ",
        "colab_type": "code",
        "outputId": "28ab4ac1-8f66-479f-abdf-4b9154d55d23",
        "colab": {
          "base_uri": "https://localhost:8080/",
          "height": 204
        }
      },
      "source": [
        "train.head()"
      ],
      "execution_count": 0,
      "outputs": [
        {
          "output_type": "execute_result",
          "data": {
            "text/html": [
              "<div>\n",
              "<style scoped>\n",
              "    .dataframe tbody tr th:only-of-type {\n",
              "        vertical-align: middle;\n",
              "    }\n",
              "\n",
              "    .dataframe tbody tr th {\n",
              "        vertical-align: top;\n",
              "    }\n",
              "\n",
              "    .dataframe thead th {\n",
              "        text-align: right;\n",
              "    }\n",
              "</style>\n",
              "<table border=\"1\" class=\"dataframe\">\n",
              "  <thead>\n",
              "    <tr style=\"text-align: right;\">\n",
              "      <th></th>\n",
              "      <th>main_category</th>\n",
              "      <th>sub_category</th>\n",
              "      <th>question</th>\n",
              "    </tr>\n",
              "  </thead>\n",
              "  <tbody>\n",
              "    <tr>\n",
              "      <th>0</th>\n",
              "      <td>4</td>\n",
              "      <td>32</td>\n",
              "      <td>Законно ли изменение количества дней листа нет...</td>\n",
              "    </tr>\n",
              "    <tr>\n",
              "      <th>1</th>\n",
              "      <td>1</td>\n",
              "      <td>8</td>\n",
              "      <td>Погадайте что будут, у меня предчувствия?) К ч...</td>\n",
              "    </tr>\n",
              "    <tr>\n",
              "      <th>2</th>\n",
              "      <td>10</td>\n",
              "      <td>66</td>\n",
              "      <td>Какой дровокол надёжней?</td>\n",
              "    </tr>\n",
              "    <tr>\n",
              "      <th>3</th>\n",
              "      <td>6</td>\n",
              "      <td>45</td>\n",
              "      <td>Зачем в старой Японии женщины бинтовали грудь ...</td>\n",
              "    </tr>\n",
              "    <tr>\n",
              "      <th>4</th>\n",
              "      <td>6</td>\n",
              "      <td>47</td>\n",
              "      <td>Положив руку.. на ...ну что там у вас, мужчин</td>\n",
              "    </tr>\n",
              "  </tbody>\n",
              "</table>\n",
              "</div>"
            ],
            "text/plain": [
              "   main_category  ...                                           question\n",
              "0              4  ...  Законно ли изменение количества дней листа нет...\n",
              "1              1  ...  Погадайте что будут, у меня предчувствия?) К ч...\n",
              "2             10  ...                           Какой дровокол надёжней?\n",
              "3              6  ...  Зачем в старой Японии женщины бинтовали грудь ...\n",
              "4              6  ...      Положив руку.. на ...ну что там у вас, мужчин\n",
              "\n",
              "[5 rows x 3 columns]"
            ]
          },
          "metadata": {
            "tags": []
          },
          "execution_count": 12
        }
      ]
    },
    {
      "cell_type": "code",
      "metadata": {
        "id": "eE7cbqhJp7xU",
        "colab_type": "code",
        "colab": {}
      },
      "source": [
        "def process_text(text):\n",
        "\n",
        "    words = wordpunct_tokenize(text)\n",
        "\n",
        "    return words"
      ],
      "execution_count": 0,
      "outputs": []
    },
    {
      "cell_type": "code",
      "metadata": {
        "id": "sprDe82IqZgC",
        "colab_type": "code",
        "colab": {}
      },
      "source": [
        "import random"
      ],
      "execution_count": 0,
      "outputs": []
    },
    {
      "cell_type": "code",
      "metadata": {
        "id": "geU38fQA4DUp",
        "colab_type": "code",
        "colab": {}
      },
      "source": [
        "from torch.utils.data import Dataset\n",
        "class WordData(Dataset):\n",
        "    \n",
        "    def __init__(self, x_data, y_data, sequence_length=64, verbose=True):\n",
        "        \n",
        "        super().__init__()\n",
        "        \n",
        "        self.x_data = []\n",
        "        self.y_data = y_data\n",
        "        \n",
        "        self.sequence_length = sequence_length\n",
        "        \n",
        "        self.pad_index = 100\n",
        "        self.m = 0 \n",
        "        \n",
        "        self.load(x_data, verbose=verbose)\n",
        "        \n",
        "    def load(self, data, verbose=True):\n",
        "        \n",
        "        data_iterator = tqdm(data, desc='Loading data', disable=not verbose)\n",
        "        \n",
        "        for text in data_iterator:\n",
        "            text = text.lower()\n",
        "            words = process_text(text)\n",
        "            index = random.choice([i for i in range(len(words))])\n",
        "            words[index] = '[MASK]'\n",
        "            text = ' '.join(words)\n",
        "            text = \"[CLS] \" +  text + \" [SEP]\"\n",
        "            words = tokenizer.tokenize(text)\n",
        "            indexed_words = tokenizer.convert_tokens_to_ids(words)\n",
        "            if len(indexed_words)>self.m:\n",
        "              self.m = len(indexed_words)\n",
        "            self.x_data.append(indexed_words)\n",
        "        \n",
        "\n",
        "    def padding(self, sequence):\n",
        "        \n",
        "        # Ограничить длину self.sequence_length\n",
        "        # если длина меньше максимально - западить\n",
        "        \n",
        "        ### CODE ###\n",
        "\n",
        "        if len(sequence) > self.sequence_length:\n",
        "            sequence = sequence[:self.sequence_length]\n",
        "        elif len(sequence) < self.sequence_length:\n",
        "            sequence = sequence + [100] * (self.sequence_length - len(sequence))\n",
        "\n",
        "        return sequence\n",
        "    \n",
        "    def __len__(self):\n",
        "        \n",
        "        return len(self.x_data)\n",
        "    \n",
        "    def __getitem__(self, idx):\n",
        "        \n",
        "        x = self.x_data[idx]\n",
        "\n",
        "        if len(x)<=self.sequence_length and len(x)>0:\n",
        "          len_x = len(x)\n",
        "        elif len(x)<=0:\n",
        "          len_x=1\n",
        "        else:\n",
        "          len_x = self.sequence_length\n",
        "        \n",
        "        x = self.padding(x)\n",
        "        x = torch.Tensor(x).long()\n",
        "        \n",
        "        y = self.y_data[idx]\n",
        "        \n",
        "        return x, y, len_x, torch.tensor([1]*self.sequence_length)"
      ],
      "execution_count": 0,
      "outputs": []
    },
    {
      "cell_type": "code",
      "metadata": {
        "id": "_SEThbOoT1NI",
        "colab_type": "code",
        "colab": {}
      },
      "source": [
        "train = train[:5000]\n",
        "test = test[:5000]"
      ],
      "execution_count": 0,
      "outputs": []
    },
    {
      "cell_type": "code",
      "metadata": {
        "id": "5GDgMlYBSz03",
        "colab_type": "code",
        "colab": {}
      },
      "source": [
        "#tokens_tensor = torch.tensor([indexed_tokens])\n",
        "#segments_tensors = torch.tensor([segments_ids])\n",
        "\n",
        "\n",
        "model = BertModel.from_pretrained('bert-base-multilingual-uncased')\n"
      ],
      "execution_count": 0,
      "outputs": []
    },
    {
      "cell_type": "code",
      "metadata": {
        "id": "pUVhVBs7ahZD",
        "colab_type": "code",
        "outputId": "2f5337e9-ff89-44b4-c352-98f8f789a4b4",
        "colab": {
          "base_uri": "https://localhost:8080/",
          "height": 153
        }
      },
      "source": [
        "for instance in list(tqdm._instances):\n",
        "    tqdm._decr_instances(instance)"
      ],
      "execution_count": 0,
      "outputs": [
        {
          "output_type": "stream",
          "text": [
            "\n",
            "\n",
            "\n",
            "\u001b[A\u001b[A\n",
            "\n",
            "\u001b[A\u001b[A\n",
            "\n",
            "\n",
            "\u001b[A\u001b[A\u001b[A"
          ],
          "name": "stderr"
        }
      ]
    },
    {
      "cell_type": "code",
      "metadata": {
        "id": "My6dOv7u4DUr",
        "colab_type": "code",
        "outputId": "d2bf01ee-9441-4121-c94f-2409c118ff36",
        "colab": {
          "base_uri": "https://localhost:8080/",
          "height": 85
        }
      },
      "source": [
        "x_train, x_validation, y_train, y_validation = train_test_split(train.question, train.main_category, test_size=0.1)\n",
        "\n",
        "train_dataset = WordData(list(x_train), list(y_train))\n",
        "train_loader = DataLoader(train_dataset, batch_size=512)\n",
        "\n",
        "validation_dataset = WordData(list(x_validation), list(y_validation))\n",
        "validation_loader = DataLoader(validation_dataset, batch_size=512)\n",
        "\n",
        "test_dataset = WordData(list(test.question), np.zeros((test.shape[0])))\n",
        "test_loader = DataLoader(test_dataset, batch_size=512 )"
      ],
      "execution_count": 0,
      "outputs": [
        {
          "output_type": "stream",
          "text": [
            "Loading data:  12%|█▏        | 72821/599999 [00:29<03:31, 2489.92it/s]\n",
            "Loading data: 100%|██████████| 599999/599999 [04:02<00:00, 2473.10it/s]\n",
            "Loading data: 100%|██████████| 66667/66667 [00:26<00:00, 2526.37it/s]\n",
            "Loading data: 100%|██████████| 200000/200000 [01:20<00:00, 2491.97it/s]\n"
          ],
          "name": "stderr"
        }
      ]
    },
    {
      "cell_type": "code",
      "metadata": {
        "id": "5g3ng-2OURuJ",
        "colab_type": "code",
        "outputId": "fad0cceb-05dc-4f18-d2ca-6ab491606c6e",
        "colab": {
          "base_uri": "https://localhost:8080/",
          "height": 34
        }
      },
      "source": [
        "for x, y, len_x, ones in train_loader:\n",
        "  print(ones.shape)\n",
        "  break"
      ],
      "execution_count": 0,
      "outputs": [
        {
          "output_type": "stream",
          "text": [
            "torch.Size([512, 64])\n"
          ],
          "name": "stdout"
        }
      ]
    },
    {
      "cell_type": "code",
      "metadata": {
        "id": "IIHyQHDcugr7",
        "colab_type": "code",
        "outputId": "c515cc84-8243-4266-cdbb-05e078d8e8fa",
        "colab": {
          "base_uri": "https://localhost:8080/",
          "height": 510
        }
      },
      "source": [
        "y"
      ],
      "execution_count": 0,
      "outputs": [
        {
          "output_type": "execute_result",
          "data": {
            "text/plain": [
              "tensor([11,  8, 22, 16, 16, 27, 20,  3,  8, 12, 25, 12,  3, 16,  1,  2, 27, 18,\n",
              "        11, 19, 13,  1, 13, 18, 12, 13, 26,  2, 13,  2,  2,  2, 24, 14,  2,  3,\n",
              "         6, 13, 20, 11,  4, 19, 20, 27, 27, 27,  8, 16, 20,  0, 20,  0, 21,  7,\n",
              "         7, 24, 11, 16,  3, 20,  8, 15, 21,  2, 22, 20, 12, 27, 10, 26,  5, 25,\n",
              "        15, 10, 16, 20, 14, 21,  5, 26, 26, 26, 22, 20, 13, 17,  2,  7, 26, 13,\n",
              "         1, 14, 27, 22, 13, 19, 19, 19, 13, 13,  5,  5,  8,  8,  5, 16, 26, 25,\n",
              "        15, 20, 25, 14,  5, 10,  6, 12,  0, 27,  9, 25, 10, 24, 17, 15,  6, 20,\n",
              "        18, 10, 20, 19, 26,  8,  0, 16,  0, 24,  5,  5, 25, 24, 21, 22,  5, 24,\n",
              "        19, 10, 13, 19, 18, 20,  9,  1, 16,  5,  0, 20, 18, 16,  8, 14,  1, 19,\n",
              "        19,  9, 11, 24,  4, 22, 17,  4, 14, 19,  4, 15, 12,  0, 13,  5,  2, 19,\n",
              "         0,  2, 22, 19,  0,  7,  6, 14,  8,  6,  7, 16,  9, 18,  9,  2,  5,  7,\n",
              "        10, 15,  1, 19, 20,  4, 24,  0,  0, 20,  9, 16,  9,  8,  0, 26, 13, 27,\n",
              "         8, 11, 27, 17,  3, 19, 16, 27, 22, 16,  4, 14,  7, 18,  0,  5,  3, 24,\n",
              "        24, 18, 13, 18,  3, 17,  4,  2, 27,  5, 26, 15, 15, 23,  7, 19, 13, 19,\n",
              "         4, 16,  7, 14,  4,  7, 13, 18, 24,  7, 20, 15, 13, 13, 13, 16,  9,  4,\n",
              "         1,  0, 20,  4, 13, 26,  5,  5,  3, 23, 27, 20, 10, 25,  3, 16,  0, 11,\n",
              "        20, 22, 18,  2, 19,  4, 26, 21, 24, 22,  7,  9, 23,  0, 10,  8,  0,  3,\n",
              "        20,  4, 18, 22,  4,  6, 19,  4,  5,  4,  3, 15, 19,  2,  0, 22,  6, 12,\n",
              "        23,  2,  7, 17, 14, 27, 17, 18, 19, 11,  5, 23,  8, 19,  4,  3, 14,  4,\n",
              "         7, 22, 15, 10, 24, 19, 20,  7,  1, 26,  0, 11, 21, 22,  3, 20, 17, 20,\n",
              "        20, 20,  4, 10, 13, 20,  6, 17,  8,  7,  6,  9,  5, 12, 18,  0,  3, 17,\n",
              "        10, 16, 12, 11, 27, 19,  8,  6, 19, 24, 18,  5, 16, 10,  7, 20, 14, 10,\n",
              "        17, 20,  6, 22, 27, 23,  2, 11, 19, 22, 19, 25,  4, 21,  2,  8, 13, 14,\n",
              "        20, 16, 14,  3, 16, 22, 27,  3, 14, 11, 20, 18, 15, 11, 12,  0,  8,  5,\n",
              "         1, 25, 14, 21, 16,  0,  7, 17, 11,  4, 20,  9, 15,  2, 15, 10,  6, 13,\n",
              "         2, 14, 10, 19, 10,  0,  6, 14, 17, 19, 21,  2,  4, 26,  4, 18,  3, 12,\n",
              "         8, 27,  4, 20, 16, 19,  5,  5, 17,  2,  5,  8,  8, 17,  7, 27,  1, 10,\n",
              "        24, 24, 14,  0, 20, 23, 10, 25,  1, 24,  2,  4,  2, 10,  2,  2,  7, 23,\n",
              "        20,  1, 17, 17,  5, 18, 20, 23])"
            ]
          },
          "metadata": {
            "tags": []
          },
          "execution_count": 46
        }
      ]
    },
    {
      "cell_type": "code",
      "metadata": {
        "id": "bI5l-Egi4DU1",
        "colab_type": "code",
        "colab": {}
      },
      "source": [
        "n_classes = train.main_category.unique().shape[0]"
      ],
      "execution_count": 0,
      "outputs": []
    },
    {
      "cell_type": "code",
      "metadata": {
        "id": "qAIQNB0krqgZ",
        "colab_type": "code",
        "colab": {}
      },
      "source": [
        "from math import sqrt\n",
        "class MLP(torch.nn.Module):\n",
        "    \n",
        "    def __init__(self, in_features, inner_features, inner_features2, out_features):\n",
        "        \n",
        "        # Главная задача этого метода - возможность использования в классе потомке, методов класса-родителя\n",
        "        # Вызываем __init__ родителя - torch.nn.Module\n",
        "        super().__init__()\n",
        "        \n",
        "        # определяем слои и все что захотим сохранять/использовать\n",
        "        self.linear_1 = torch.nn.Linear(in_features=in_features, out_features=inner_features)\n",
        "        gl = sqrt(6./(in_features+inner_features))\n",
        "        self.linear_1.weight.data.uniform_(-gl, gl)\n",
        "        self.non_linear_function = torch.nn.ReLU()\n",
        "        self.drop_out = torch.nn.Dropout(0.18)\n",
        "        self.linear_2 = torch.nn.Linear(in_features=inner_features, out_features=inner_features2)\n",
        "        gl1 = sqrt(6./(inner_features+inner_features2))\n",
        "        self.linear_2.weight.data.uniform_(-gl1, gl1)\n",
        "        self.non_linear_function2 = torch.nn.ReLU()\n",
        "        self.linear_3 = torch.nn.Linear(in_features=inner_features2, out_features=out_features)\n",
        "        gl2 = sqrt(6./(inner_features2+out_features))\n",
        "        self.linear_3.weight.data.uniform_(-gl2, gl2)\n",
        "  \n",
        "    def forward(self, x):\n",
        "        \n",
        "        # наша привычная схема\n",
        "        x = self.linear_1(x)\n",
        "        x = self.non_linear_function(x)\n",
        "        x = self.drop_out(x)\n",
        "        x = self.linear_2(x)\n",
        "        x = self.non_linear_function2(x)\n",
        "        x = self.linear_3(x)\n",
        "        return x"
      ],
      "execution_count": 0,
      "outputs": []
    },
    {
      "cell_type": "code",
      "metadata": {
        "id": "QLUUr6QWrx-h",
        "colab_type": "code",
        "colab": {}
      },
      "source": [
        "mlp = MLP(in_features=768, inner_features=(768*2), inner_features2=500, out_features=n_classes)"
      ],
      "execution_count": 0,
      "outputs": []
    },
    {
      "cell_type": "code",
      "metadata": {
        "id": "ASMrV4Fz4DU4",
        "colab_type": "code",
        "colab": {}
      },
      "source": [
        "from math import sqrt\n",
        "class model_with_att(torch.nn.Module):\n",
        "  def __init__(self, embedding_dim, out_GRu_feat, n):\n",
        "        \n",
        "        super().__init__()\n",
        "        \n",
        "        self.out_GRu_feat = out_GRu_feat\n",
        "\n",
        "        self.out_biGRu = int(self.out_GRu_feat * 2)\n",
        "        self.out_CNN = int(self.out_GRu_feat * 3)\n",
        "        self.n = int(n)\n",
        "        self.embedding_dim = embedding_dim\n",
        "\n",
        "        self.drop_emb = torch.nn.Dropout(0.3)\n",
        "\n",
        "        self.LSTM = torch.nn.LSTM(self.embedding_dim, out_GRu_feat, num_layers = 2, dropout = 0.4, bidirectional=True, batch_first=True) \n",
        "\n",
        "        #attention\n",
        "        \n",
        "        self.q_proj = torch.nn.Linear(self.out_biGRu, self.out_biGRu)\n",
        "        self.k_proj = torch.nn.Linear(self.out_biGRu, self.out_biGRu)\n",
        "        self.v_proj = torch.nn.Linear(self.out_biGRu, self.out_biGRu)\n",
        "        self.att_soft = torch.nn.Softmax(dim = 2)\n",
        "        \n",
        "        self.cnn_3gr = torch.nn.Conv1d(in_channels=int(self.out_biGRu*2) , out_channels=self.out_GRu_feat, kernel_size=3)\n",
        "        self.cnn_4gr = torch.nn.Conv1d(in_channels=int(self.out_biGRu*2) , out_channels=self.out_GRu_feat, kernel_size=4)\n",
        "        self.cnn_5gr = torch.nn.Conv1d(in_channels=int(self.out_biGRu*2) , out_channels=self.out_GRu_feat, kernel_size=5)\n",
        "\n",
        "        self.bn1 = torch.nn.BatchNorm1d(self.out_CNN)\n",
        "        \n",
        "        self.linear_1 = torch.nn.Linear(in_features=self.out_CNN, out_features=self.out_biGRu)\n",
        "        gl = sqrt(6./(self.out_CNN+self.out_biGRu))\n",
        "        self.linear_1.weight.data.uniform_(-gl, gl)\n",
        "\n",
        "        self.relu = torch.nn.ReLU()\n",
        "\n",
        "        self.drop_out = torch.nn.Dropout(0.2)\n",
        "\n",
        "        self.bn2 = torch.nn.BatchNorm1d(self.out_biGRu)\n",
        "\n",
        "        self.linear_2 = torch.nn.Linear(in_features=self.out_biGRu, out_features=n)\n",
        "        gl2 = sqrt(6./(self.out_biGRu+n))\n",
        "        self.linear_2.weight.data.uniform_(-gl2, gl2)\n",
        "\n",
        "        \n",
        "  def forward(self, x, x_len):\n",
        "      \n",
        "\n",
        "      x_emb = self.drop_emb(x)\n",
        "\n",
        "      x_packed = pack_padded_sequence(x_emb, x_len, batch_first=True, enforce_sorted=False)\n",
        "\n",
        "      x_lstm, _ = self.LSTM(x_packed)\n",
        "\n",
        "      x, _ = pad_packed_sequence(x_lstm, batch_first=True)\n",
        "\n",
        "      \n",
        "      x_q = self.q_proj(x)\n",
        "      x_k = self.k_proj(x)\n",
        "      x_v = self.v_proj(x)\n",
        "\n",
        "      att_scores = torch.bmm(x_q, x_k.transpose(2,1))/self.out_GRu_feat\n",
        "      att_dist = self.att_soft(att_scores)\n",
        "      attention_vectors = torch.bmm(att_dist, x_v)\n",
        "      hidden_with_attention = torch.cat([x_v, attention_vectors], dim=-1)\n",
        "     \n",
        "      x_gru_s_t = hidden_with_attention.transpose(2,1)\n",
        "\n",
        "      x_cnn3 = self.cnn_3gr(x_gru_s_t)\n",
        "      x_cnn4 = self.cnn_4gr(x_gru_s_t)\n",
        "      x_cnn5 = self.cnn_5gr(x_gru_s_t)\n",
        "\n",
        "      frst, _ =  x_cnn3.max(dim= -1,)\n",
        "      sc, _ = x_cnn4.max(dim= -1,)\n",
        "      thr, _ = x_cnn5.max(dim= -1,)\n",
        "      \n",
        "      px = torch.cat((frst, sc, thr), dim=-1)\n",
        "      \n",
        "      x = self.bn1(px)\n",
        "      x = self.linear_1(x)\n",
        "      x = self.relu(x)\n",
        "      x = self.drop_out(x)\n",
        "      x = self.bn2(x)\n",
        "      x = self.linear_2(x)\n",
        "      x = self.relu(x)\n",
        "    \n",
        "      return x"
      ],
      "execution_count": 0,
      "outputs": []
    },
    {
      "cell_type": "code",
      "metadata": {
        "id": "ZCw-uXCY4DU6",
        "colab_type": "code",
        "colab": {}
      },
      "source": [
        "model_att = model_with_att(768, 300, n_classes)"
      ],
      "execution_count": 0,
      "outputs": []
    },
    {
      "cell_type": "code",
      "metadata": {
        "id": "QG0viyxnzynb",
        "colab_type": "code",
        "colab": {}
      },
      "source": [
        "from torch.nn.utils.rnn import pack_padded_sequence\n",
        "from torch.nn.utils.rnn import pad_packed_sequence"
      ],
      "execution_count": 0,
      "outputs": []
    },
    {
      "cell_type": "code",
      "metadata": {
        "id": "pl0hg6S94DU8",
        "colab_type": "code",
        "colab": {}
      },
      "source": [
        "with torch.no_grad():\n",
        "    pred = model(x, ones)"
      ],
      "execution_count": 0,
      "outputs": []
    },
    {
      "cell_type": "code",
      "metadata": {
        "id": "Y2Kwq_IJ4DU-",
        "colab_type": "code",
        "outputId": "235f7e5e-42eb-45cc-c4d2-260b84d5b061",
        "colab": {
          "base_uri": "https://localhost:8080/",
          "height": 34
        }
      },
      "source": [
        "pred[0][:, 0 ,:].shape"
      ],
      "execution_count": 0,
      "outputs": [
        {
          "output_type": "execute_result",
          "data": {
            "text/plain": [
              "torch.Size([512, 768])"
            ]
          },
          "metadata": {
            "tags": []
          },
          "execution_count": 34
        }
      ]
    },
    {
      "cell_type": "code",
      "metadata": {
        "id": "5_TTeoxv4DVB",
        "colab_type": "code",
        "colab": {}
      },
      "source": [
        "device = torch.device('cuda') if torch.cuda.is_available() else torch.device('cpu')"
      ],
      "execution_count": 0,
      "outputs": []
    },
    {
      "cell_type": "code",
      "metadata": {
        "id": "awaKBMQx-omH",
        "colab_type": "code",
        "outputId": "eb10d44c-3d34-401d-e05c-a83e9c92247a",
        "colab": {
          "base_uri": "https://localhost:8080/",
          "height": 1000
        }
      },
      "source": [
        "model"
      ],
      "execution_count": 0,
      "outputs": [
        {
          "output_type": "execute_result",
          "data": {
            "text/plain": [
              "BertModel(\n",
              "  (embeddings): BertEmbeddings(\n",
              "    (word_embeddings): Embedding(105879, 768, padding_idx=0)\n",
              "    (position_embeddings): Embedding(512, 768)\n",
              "    (token_type_embeddings): Embedding(2, 768)\n",
              "    (LayerNorm): LayerNorm((768,), eps=1e-12, elementwise_affine=True)\n",
              "    (dropout): Dropout(p=0.1, inplace=False)\n",
              "  )\n",
              "  (encoder): BertEncoder(\n",
              "    (layer): ModuleList(\n",
              "      (0): BertLayer(\n",
              "        (attention): BertAttention(\n",
              "          (self): BertSelfAttention(\n",
              "            (query): Linear(in_features=768, out_features=768, bias=True)\n",
              "            (key): Linear(in_features=768, out_features=768, bias=True)\n",
              "            (value): Linear(in_features=768, out_features=768, bias=True)\n",
              "            (dropout): Dropout(p=0.1, inplace=False)\n",
              "          )\n",
              "          (output): BertSelfOutput(\n",
              "            (dense): Linear(in_features=768, out_features=768, bias=True)\n",
              "            (LayerNorm): LayerNorm((768,), eps=1e-12, elementwise_affine=True)\n",
              "            (dropout): Dropout(p=0.1, inplace=False)\n",
              "          )\n",
              "        )\n",
              "        (intermediate): BertIntermediate(\n",
              "          (dense): Linear(in_features=768, out_features=3072, bias=True)\n",
              "        )\n",
              "        (output): BertOutput(\n",
              "          (dense): Linear(in_features=3072, out_features=768, bias=True)\n",
              "          (LayerNorm): LayerNorm((768,), eps=1e-12, elementwise_affine=True)\n",
              "          (dropout): Dropout(p=0.1, inplace=False)\n",
              "        )\n",
              "      )\n",
              "      (1): BertLayer(\n",
              "        (attention): BertAttention(\n",
              "          (self): BertSelfAttention(\n",
              "            (query): Linear(in_features=768, out_features=768, bias=True)\n",
              "            (key): Linear(in_features=768, out_features=768, bias=True)\n",
              "            (value): Linear(in_features=768, out_features=768, bias=True)\n",
              "            (dropout): Dropout(p=0.1, inplace=False)\n",
              "          )\n",
              "          (output): BertSelfOutput(\n",
              "            (dense): Linear(in_features=768, out_features=768, bias=True)\n",
              "            (LayerNorm): LayerNorm((768,), eps=1e-12, elementwise_affine=True)\n",
              "            (dropout): Dropout(p=0.1, inplace=False)\n",
              "          )\n",
              "        )\n",
              "        (intermediate): BertIntermediate(\n",
              "          (dense): Linear(in_features=768, out_features=3072, bias=True)\n",
              "        )\n",
              "        (output): BertOutput(\n",
              "          (dense): Linear(in_features=3072, out_features=768, bias=True)\n",
              "          (LayerNorm): LayerNorm((768,), eps=1e-12, elementwise_affine=True)\n",
              "          (dropout): Dropout(p=0.1, inplace=False)\n",
              "        )\n",
              "      )\n",
              "      (2): BertLayer(\n",
              "        (attention): BertAttention(\n",
              "          (self): BertSelfAttention(\n",
              "            (query): Linear(in_features=768, out_features=768, bias=True)\n",
              "            (key): Linear(in_features=768, out_features=768, bias=True)\n",
              "            (value): Linear(in_features=768, out_features=768, bias=True)\n",
              "            (dropout): Dropout(p=0.1, inplace=False)\n",
              "          )\n",
              "          (output): BertSelfOutput(\n",
              "            (dense): Linear(in_features=768, out_features=768, bias=True)\n",
              "            (LayerNorm): LayerNorm((768,), eps=1e-12, elementwise_affine=True)\n",
              "            (dropout): Dropout(p=0.1, inplace=False)\n",
              "          )\n",
              "        )\n",
              "        (intermediate): BertIntermediate(\n",
              "          (dense): Linear(in_features=768, out_features=3072, bias=True)\n",
              "        )\n",
              "        (output): BertOutput(\n",
              "          (dense): Linear(in_features=3072, out_features=768, bias=True)\n",
              "          (LayerNorm): LayerNorm((768,), eps=1e-12, elementwise_affine=True)\n",
              "          (dropout): Dropout(p=0.1, inplace=False)\n",
              "        )\n",
              "      )\n",
              "      (3): BertLayer(\n",
              "        (attention): BertAttention(\n",
              "          (self): BertSelfAttention(\n",
              "            (query): Linear(in_features=768, out_features=768, bias=True)\n",
              "            (key): Linear(in_features=768, out_features=768, bias=True)\n",
              "            (value): Linear(in_features=768, out_features=768, bias=True)\n",
              "            (dropout): Dropout(p=0.1, inplace=False)\n",
              "          )\n",
              "          (output): BertSelfOutput(\n",
              "            (dense): Linear(in_features=768, out_features=768, bias=True)\n",
              "            (LayerNorm): LayerNorm((768,), eps=1e-12, elementwise_affine=True)\n",
              "            (dropout): Dropout(p=0.1, inplace=False)\n",
              "          )\n",
              "        )\n",
              "        (intermediate): BertIntermediate(\n",
              "          (dense): Linear(in_features=768, out_features=3072, bias=True)\n",
              "        )\n",
              "        (output): BertOutput(\n",
              "          (dense): Linear(in_features=3072, out_features=768, bias=True)\n",
              "          (LayerNorm): LayerNorm((768,), eps=1e-12, elementwise_affine=True)\n",
              "          (dropout): Dropout(p=0.1, inplace=False)\n",
              "        )\n",
              "      )\n",
              "      (4): BertLayer(\n",
              "        (attention): BertAttention(\n",
              "          (self): BertSelfAttention(\n",
              "            (query): Linear(in_features=768, out_features=768, bias=True)\n",
              "            (key): Linear(in_features=768, out_features=768, bias=True)\n",
              "            (value): Linear(in_features=768, out_features=768, bias=True)\n",
              "            (dropout): Dropout(p=0.1, inplace=False)\n",
              "          )\n",
              "          (output): BertSelfOutput(\n",
              "            (dense): Linear(in_features=768, out_features=768, bias=True)\n",
              "            (LayerNorm): LayerNorm((768,), eps=1e-12, elementwise_affine=True)\n",
              "            (dropout): Dropout(p=0.1, inplace=False)\n",
              "          )\n",
              "        )\n",
              "        (intermediate): BertIntermediate(\n",
              "          (dense): Linear(in_features=768, out_features=3072, bias=True)\n",
              "        )\n",
              "        (output): BertOutput(\n",
              "          (dense): Linear(in_features=3072, out_features=768, bias=True)\n",
              "          (LayerNorm): LayerNorm((768,), eps=1e-12, elementwise_affine=True)\n",
              "          (dropout): Dropout(p=0.1, inplace=False)\n",
              "        )\n",
              "      )\n",
              "      (5): BertLayer(\n",
              "        (attention): BertAttention(\n",
              "          (self): BertSelfAttention(\n",
              "            (query): Linear(in_features=768, out_features=768, bias=True)\n",
              "            (key): Linear(in_features=768, out_features=768, bias=True)\n",
              "            (value): Linear(in_features=768, out_features=768, bias=True)\n",
              "            (dropout): Dropout(p=0.1, inplace=False)\n",
              "          )\n",
              "          (output): BertSelfOutput(\n",
              "            (dense): Linear(in_features=768, out_features=768, bias=True)\n",
              "            (LayerNorm): LayerNorm((768,), eps=1e-12, elementwise_affine=True)\n",
              "            (dropout): Dropout(p=0.1, inplace=False)\n",
              "          )\n",
              "        )\n",
              "        (intermediate): BertIntermediate(\n",
              "          (dense): Linear(in_features=768, out_features=3072, bias=True)\n",
              "        )\n",
              "        (output): BertOutput(\n",
              "          (dense): Linear(in_features=3072, out_features=768, bias=True)\n",
              "          (LayerNorm): LayerNorm((768,), eps=1e-12, elementwise_affine=True)\n",
              "          (dropout): Dropout(p=0.1, inplace=False)\n",
              "        )\n",
              "      )\n",
              "      (6): BertLayer(\n",
              "        (attention): BertAttention(\n",
              "          (self): BertSelfAttention(\n",
              "            (query): Linear(in_features=768, out_features=768, bias=True)\n",
              "            (key): Linear(in_features=768, out_features=768, bias=True)\n",
              "            (value): Linear(in_features=768, out_features=768, bias=True)\n",
              "            (dropout): Dropout(p=0.1, inplace=False)\n",
              "          )\n",
              "          (output): BertSelfOutput(\n",
              "            (dense): Linear(in_features=768, out_features=768, bias=True)\n",
              "            (LayerNorm): LayerNorm((768,), eps=1e-12, elementwise_affine=True)\n",
              "            (dropout): Dropout(p=0.1, inplace=False)\n",
              "          )\n",
              "        )\n",
              "        (intermediate): BertIntermediate(\n",
              "          (dense): Linear(in_features=768, out_features=3072, bias=True)\n",
              "        )\n",
              "        (output): BertOutput(\n",
              "          (dense): Linear(in_features=3072, out_features=768, bias=True)\n",
              "          (LayerNorm): LayerNorm((768,), eps=1e-12, elementwise_affine=True)\n",
              "          (dropout): Dropout(p=0.1, inplace=False)\n",
              "        )\n",
              "      )\n",
              "      (7): BertLayer(\n",
              "        (attention): BertAttention(\n",
              "          (self): BertSelfAttention(\n",
              "            (query): Linear(in_features=768, out_features=768, bias=True)\n",
              "            (key): Linear(in_features=768, out_features=768, bias=True)\n",
              "            (value): Linear(in_features=768, out_features=768, bias=True)\n",
              "            (dropout): Dropout(p=0.1, inplace=False)\n",
              "          )\n",
              "          (output): BertSelfOutput(\n",
              "            (dense): Linear(in_features=768, out_features=768, bias=True)\n",
              "            (LayerNorm): LayerNorm((768,), eps=1e-12, elementwise_affine=True)\n",
              "            (dropout): Dropout(p=0.1, inplace=False)\n",
              "          )\n",
              "        )\n",
              "        (intermediate): BertIntermediate(\n",
              "          (dense): Linear(in_features=768, out_features=3072, bias=True)\n",
              "        )\n",
              "        (output): BertOutput(\n",
              "          (dense): Linear(in_features=3072, out_features=768, bias=True)\n",
              "          (LayerNorm): LayerNorm((768,), eps=1e-12, elementwise_affine=True)\n",
              "          (dropout): Dropout(p=0.1, inplace=False)\n",
              "        )\n",
              "      )\n",
              "      (8): BertLayer(\n",
              "        (attention): BertAttention(\n",
              "          (self): BertSelfAttention(\n",
              "            (query): Linear(in_features=768, out_features=768, bias=True)\n",
              "            (key): Linear(in_features=768, out_features=768, bias=True)\n",
              "            (value): Linear(in_features=768, out_features=768, bias=True)\n",
              "            (dropout): Dropout(p=0.1, inplace=False)\n",
              "          )\n",
              "          (output): BertSelfOutput(\n",
              "            (dense): Linear(in_features=768, out_features=768, bias=True)\n",
              "            (LayerNorm): LayerNorm((768,), eps=1e-12, elementwise_affine=True)\n",
              "            (dropout): Dropout(p=0.1, inplace=False)\n",
              "          )\n",
              "        )\n",
              "        (intermediate): BertIntermediate(\n",
              "          (dense): Linear(in_features=768, out_features=3072, bias=True)\n",
              "        )\n",
              "        (output): BertOutput(\n",
              "          (dense): Linear(in_features=3072, out_features=768, bias=True)\n",
              "          (LayerNorm): LayerNorm((768,), eps=1e-12, elementwise_affine=True)\n",
              "          (dropout): Dropout(p=0.1, inplace=False)\n",
              "        )\n",
              "      )\n",
              "      (9): BertLayer(\n",
              "        (attention): BertAttention(\n",
              "          (self): BertSelfAttention(\n",
              "            (query): Linear(in_features=768, out_features=768, bias=True)\n",
              "            (key): Linear(in_features=768, out_features=768, bias=True)\n",
              "            (value): Linear(in_features=768, out_features=768, bias=True)\n",
              "            (dropout): Dropout(p=0.1, inplace=False)\n",
              "          )\n",
              "          (output): BertSelfOutput(\n",
              "            (dense): Linear(in_features=768, out_features=768, bias=True)\n",
              "            (LayerNorm): LayerNorm((768,), eps=1e-12, elementwise_affine=True)\n",
              "            (dropout): Dropout(p=0.1, inplace=False)\n",
              "          )\n",
              "        )\n",
              "        (intermediate): BertIntermediate(\n",
              "          (dense): Linear(in_features=768, out_features=3072, bias=True)\n",
              "        )\n",
              "        (output): BertOutput(\n",
              "          (dense): Linear(in_features=3072, out_features=768, bias=True)\n",
              "          (LayerNorm): LayerNorm((768,), eps=1e-12, elementwise_affine=True)\n",
              "          (dropout): Dropout(p=0.1, inplace=False)\n",
              "        )\n",
              "      )\n",
              "      (10): BertLayer(\n",
              "        (attention): BertAttention(\n",
              "          (self): BertSelfAttention(\n",
              "            (query): Linear(in_features=768, out_features=768, bias=True)\n",
              "            (key): Linear(in_features=768, out_features=768, bias=True)\n",
              "            (value): Linear(in_features=768, out_features=768, bias=True)\n",
              "            (dropout): Dropout(p=0.1, inplace=False)\n",
              "          )\n",
              "          (output): BertSelfOutput(\n",
              "            (dense): Linear(in_features=768, out_features=768, bias=True)\n",
              "            (LayerNorm): LayerNorm((768,), eps=1e-12, elementwise_affine=True)\n",
              "            (dropout): Dropout(p=0.1, inplace=False)\n",
              "          )\n",
              "        )\n",
              "        (intermediate): BertIntermediate(\n",
              "          (dense): Linear(in_features=768, out_features=3072, bias=True)\n",
              "        )\n",
              "        (output): BertOutput(\n",
              "          (dense): Linear(in_features=3072, out_features=768, bias=True)\n",
              "          (LayerNorm): LayerNorm((768,), eps=1e-12, elementwise_affine=True)\n",
              "          (dropout): Dropout(p=0.1, inplace=False)\n",
              "        )\n",
              "      )\n",
              "      (11): BertLayer(\n",
              "        (attention): BertAttention(\n",
              "          (self): BertSelfAttention(\n",
              "            (query): Linear(in_features=768, out_features=768, bias=True)\n",
              "            (key): Linear(in_features=768, out_features=768, bias=True)\n",
              "            (value): Linear(in_features=768, out_features=768, bias=True)\n",
              "            (dropout): Dropout(p=0.1, inplace=False)\n",
              "          )\n",
              "          (output): BertSelfOutput(\n",
              "            (dense): Linear(in_features=768, out_features=768, bias=True)\n",
              "            (LayerNorm): LayerNorm((768,), eps=1e-12, elementwise_affine=True)\n",
              "            (dropout): Dropout(p=0.1, inplace=False)\n",
              "          )\n",
              "        )\n",
              "        (intermediate): BertIntermediate(\n",
              "          (dense): Linear(in_features=768, out_features=3072, bias=True)\n",
              "        )\n",
              "        (output): BertOutput(\n",
              "          (dense): Linear(in_features=3072, out_features=768, bias=True)\n",
              "          (LayerNorm): LayerNorm((768,), eps=1e-12, elementwise_affine=True)\n",
              "          (dropout): Dropout(p=0.1, inplace=False)\n",
              "        )\n",
              "      )\n",
              "    )\n",
              "  )\n",
              "  (pooler): BertPooler(\n",
              "    (dense): Linear(in_features=768, out_features=768, bias=True)\n",
              "    (activation): Tanh()\n",
              "  )\n",
              ")"
            ]
          },
          "metadata": {
            "tags": []
          },
          "execution_count": 55
        }
      ]
    },
    {
      "cell_type": "code",
      "metadata": {
        "id": "kfOj1ONt4DVD",
        "colab_type": "code",
        "colab": {}
      },
      "source": [
        "criterion = torch.nn.CrossEntropyLoss()\n",
        "optimizer = torch.optim.Adam(params=mlp.parameters())"
      ],
      "execution_count": 0,
      "outputs": []
    },
    {
      "cell_type": "code",
      "metadata": {
        "id": "D96CZYuba0jD",
        "colab_type": "code",
        "colab": {}
      },
      "source": [
        "mlp = mlp.to(device)\n",
        "model = model.to(device)\n",
        "criterion = criterion.to(device)"
      ],
      "execution_count": 0,
      "outputs": []
    },
    {
      "cell_type": "code",
      "metadata": {
        "id": "lpmId9Ppusci",
        "colab_type": "code",
        "outputId": "13529db6-86d0-44ad-9593-d7ea7bf683f3",
        "colab": {
          "base_uri": "https://localhost:8080/",
          "height": 34
        }
      },
      "source": [
        "mlp(x).shape"
      ],
      "execution_count": 0,
      "outputs": [
        {
          "output_type": "execute_result",
          "data": {
            "text/plain": [
              "torch.Size([512, 28])"
            ]
          },
          "metadata": {
            "tags": []
          },
          "execution_count": 58
        }
      ]
    },
    {
      "cell_type": "code",
      "metadata": {
        "id": "JlmArnuk4DVF",
        "colab_type": "code",
        "outputId": "dc187cb0-7a52-4438-b0a9-4f595c88595d",
        "colab": {
          "base_uri": "https://localhost:8080/",
          "height": 408
        }
      },
      "source": [
        "from torch.nn.utils.rnn import pack_padded_sequence\n",
        "\n",
        "epochs = 10\n",
        "losses = []\n",
        "best_test_loss = 10.\n",
        "\n",
        "test_f1 = []\n",
        "\n",
        "for n_epoch in range(epochs):\n",
        "    \n",
        "    train_losses = []\n",
        "    test_losses = []\n",
        "    test_targets = []\n",
        "    test_pred_class = []\n",
        "    \n",
        "    progress_bar = tqdm(total=len(train_loader.dataset), desc='Epoch {}'.format(n_epoch + 1))\n",
        "    \n",
        "    model.train()\n",
        "    \n",
        "    for x, y, x_len, ones in train_loader:\n",
        "\n",
        "\n",
        "        x_len = x_len.to(device)\n",
        "        x = x.to(device)\n",
        "        y = y.to(device)\n",
        "        ones = ones.to(device)\n",
        "\n",
        "\n",
        "        optimizer.zero_grad()\n",
        "        with torch.no_grad():\n",
        "          x, _ = model(x, ones)\n",
        "        x = x[:, 0 ,:]\n",
        "\n",
        "        pred = mlp(x)\n",
        "        loss = criterion(pred, y)\n",
        "        \n",
        "        loss.backward()\n",
        "        \n",
        "        optimizer.step()\n",
        "        \n",
        "        train_losses.append(loss.item())\n",
        "        losses.append(loss.item())\n",
        "        \n",
        "        progress_bar.set_postfix(train_loss = np.mean(losses[-500:]))\n",
        "\n",
        "        progress_bar.update(x.shape[0])\n",
        "        \n",
        "    progress_bar.close()\n",
        "    \n",
        "    model.eval()\n",
        "    \n",
        "    for x, y, x_len, ones in validation_loader:\n",
        "        \n",
        "        \n",
        "        x = x.to(device)\n",
        "        x_len = x_len.to(device)\n",
        "        y = y.to(device)\n",
        "        ones = ones.to(device)\n",
        "\n",
        "        with torch.no_grad():\n",
        "            x, _ = model(x, ones)\n",
        "            x = x[:, 0 ,:]\n",
        "            pred = mlp(x)\n",
        "\n",
        "            pred = pred.cpu()\n",
        "            y = y.cpu()\n",
        "\n",
        "            test_targets.append(y.numpy())\n",
        "            test_pred_class.append(np.argmax(pred, axis=1))\n",
        "\n",
        "            loss = criterion(pred, y)\n",
        "\n",
        "            test_losses.append(loss.item())\n",
        "        \n",
        "    mean_test_loss = np.mean(test_losses)\n",
        "\n",
        "    test_targets = np.concatenate(test_targets).squeeze()\n",
        "    test_pred_class = np.concatenate(test_pred_class).squeeze()\n",
        "\n",
        "    f1 = f1_score(test_targets, test_pred_class, average='micro')\n",
        "\n",
        "    test_f1.append(f1)\n",
        "    \n",
        "    print()\n",
        "    print('Losses: train - {:.3f}, test - {:.3f}'.format(np.mean(train_losses), mean_test_loss))\n",
        "\n",
        "    print('F1 test - {:.3f}'.format(f1))\n",
        "        \n",
        "    # Early stopping:\n",
        "    if mean_test_loss < best_test_loss:\n",
        "        best_test_loss = mean_test_loss\n",
        "    else:\n",
        "        print('Early stopping')\n",
        "        break"
      ],
      "execution_count": 0,
      "outputs": [
        {
          "output_type": "stream",
          "text": [
            "Epoch 1:   0%|          | 0/599999 [00:00<?, ?it/s]\n",
            "Epoch 1:  41%|████▏     | 248320/599999 [29:20<41:17, 141.98it/s, train_loss=2.76]\n",
            "Epoch 1: 100%|██████████| 599999/599999 [1:10:34<00:00, 142.31it/s, train_loss=2.47]\n",
            "Epoch 2:   0%|          | 0/599999 [00:00<?, ?it/s]"
          ],
          "name": "stderr"
        },
        {
          "output_type": "stream",
          "text": [
            "\n",
            "Losses: train - 2.597, test - 2.287\n",
            "F1 test - 0.350\n"
          ],
          "name": "stdout"
        },
        {
          "output_type": "stream",
          "text": [
            "Epoch 2: 100%|██████████| 599999/599999 [1:10:21<00:00, 142.02it/s, train_loss=2.39]\n",
            "Epoch 3:   0%|          | 0/599999 [00:00<?, ?it/s]"
          ],
          "name": "stderr"
        },
        {
          "output_type": "stream",
          "text": [
            "\n",
            "Losses: train - 2.411, test - 2.209\n",
            "F1 test - 0.370\n"
          ],
          "name": "stdout"
        },
        {
          "output_type": "stream",
          "text": [
            "Epoch 3: 100%|██████████| 599999/599999 [1:10:26<00:00, 142.28it/s, train_loss=2.36]\n",
            "Epoch 4:   0%|          | 0/599999 [00:00<?, ?it/s]"
          ],
          "name": "stderr"
        },
        {
          "output_type": "stream",
          "text": [
            "\n",
            "Losses: train - 2.368, test - 2.189\n",
            "F1 test - 0.376\n"
          ],
          "name": "stdout"
        },
        {
          "output_type": "stream",
          "text": [
            "Epoch 4: 100%|██████████| 599999/599999 [1:10:23<00:00, 141.12it/s, train_loss=2.33]\n",
            "Epoch 5:   0%|          | 0/599999 [00:00<?, ?it/s]"
          ],
          "name": "stderr"
        },
        {
          "output_type": "stream",
          "text": [
            "\n",
            "Losses: train - 2.346, test - 2.152\n",
            "F1 test - 0.385\n"
          ],
          "name": "stdout"
        },
        {
          "output_type": "stream",
          "text": [
            "Epoch 5: 100%|██████████| 599999/599999 [1:11:05<00:00, 140.54it/s, train_loss=2.32]\n",
            "Epoch 6:   0%|          | 0/599999 [00:00<?, ?it/s]"
          ],
          "name": "stderr"
        },
        {
          "output_type": "stream",
          "text": [
            "\n",
            "Losses: train - 2.328, test - 2.139\n",
            "F1 test - 0.391\n"
          ],
          "name": "stdout"
        },
        {
          "output_type": "stream",
          "text": [
            "Epoch 6:  96%|█████████▌| 573952/599999 [1:08:09<03:05, 140.47it/s, train_loss=2.31]"
          ],
          "name": "stderr"
        }
      ]
    },
    {
      "cell_type": "code",
      "metadata": {
        "id": "FRlpUbq24DVJ",
        "colab_type": "code",
        "outputId": "1c636393-d3a7-49df-ea55-a31f2cbca5a5",
        "colab": {
          "base_uri": "https://localhost:8080/",
          "height": 34
        }
      },
      "source": [
        "model.eval()\n",
        "\n",
        "predictions = []\n",
        "\n",
        "for x, y, x_len,ones in test_loader:\n",
        "\n",
        "    x = x.to(device)\n",
        "\n",
        "    ones = ones.to(device)\n",
        "    with torch.no_grad():\n",
        "\n",
        "        x, _ = model(x, ones)\n",
        "        pred = model_att(x,x_len)\n",
        "\n",
        "        pred = pred.cpu()\n",
        "        \n",
        "        predictions.append(np.argmax(pred, axis=1))\n",
        "        \n",
        "predictions = np.concatenate(predictions).squeeze()"
      ],
      "execution_count": 0,
      "outputs": [
        {
          "output_type": "stream",
          "text": [
            "\rEpoch 5:   8%|▊         | 45568/599999 [04:50<56:45, 162.81it/s, train_loss=1.64]"
          ],
          "name": "stderr"
        }
      ]
    },
    {
      "cell_type": "code",
      "metadata": {
        "id": "0owAKef84DVM",
        "colab_type": "code",
        "colab": {}
      },
      "source": [
        "test['main_category'] = predictions"
      ],
      "execution_count": 0,
      "outputs": []
    },
    {
      "cell_type": "code",
      "metadata": {
        "id": "eAynND_r4DVP",
        "colab_type": "code",
        "colab": {}
      },
      "source": [
        "test = test[['index', 'main_category']]"
      ],
      "execution_count": 0,
      "outputs": []
    },
    {
      "cell_type": "code",
      "metadata": {
        "id": "DKS3EAY84DVR",
        "colab_type": "code",
        "outputId": "8a95df18-b4f3-46ca-b6c2-cc5c03da8234",
        "colab": {
          "base_uri": "https://localhost:8080/",
          "height": 204
        }
      },
      "source": [
        "test.head()"
      ],
      "execution_count": 0,
      "outputs": [
        {
          "output_type": "execute_result",
          "data": {
            "text/html": [
              "<div>\n",
              "<style scoped>\n",
              "    .dataframe tbody tr th:only-of-type {\n",
              "        vertical-align: middle;\n",
              "    }\n",
              "\n",
              "    .dataframe tbody tr th {\n",
              "        vertical-align: top;\n",
              "    }\n",
              "\n",
              "    .dataframe thead th {\n",
              "        text-align: right;\n",
              "    }\n",
              "</style>\n",
              "<table border=\"1\" class=\"dataframe\">\n",
              "  <thead>\n",
              "    <tr style=\"text-align: right;\">\n",
              "      <th></th>\n",
              "      <th>index</th>\n",
              "      <th>main_category</th>\n",
              "    </tr>\n",
              "  </thead>\n",
              "  <tbody>\n",
              "    <tr>\n",
              "      <th>0</th>\n",
              "      <td>0</td>\n",
              "      <td>15</td>\n",
              "    </tr>\n",
              "    <tr>\n",
              "      <th>1</th>\n",
              "      <td>1</td>\n",
              "      <td>15</td>\n",
              "    </tr>\n",
              "    <tr>\n",
              "      <th>2</th>\n",
              "      <td>2</td>\n",
              "      <td>18</td>\n",
              "    </tr>\n",
              "    <tr>\n",
              "      <th>3</th>\n",
              "      <td>3</td>\n",
              "      <td>17</td>\n",
              "    </tr>\n",
              "    <tr>\n",
              "      <th>4</th>\n",
              "      <td>4</td>\n",
              "      <td>12</td>\n",
              "    </tr>\n",
              "  </tbody>\n",
              "</table>\n",
              "</div>"
            ],
            "text/plain": [
              "   index  main_category\n",
              "0      0             15\n",
              "1      1             15\n",
              "2      2             18\n",
              "3      3             17\n",
              "4      4             12"
            ]
          },
          "metadata": {
            "tags": []
          },
          "execution_count": 29
        }
      ]
    },
    {
      "cell_type": "code",
      "metadata": {
        "id": "Lb1t2EiI4DVT",
        "colab_type": "code",
        "colab": {}
      },
      "source": [
        "test.to_csv('submission11.csv', index=False)"
      ],
      "execution_count": 0,
      "outputs": []
    },
    {
      "cell_type": "code",
      "metadata": {
        "id": "sD4v87ZF4DVW",
        "colab_type": "code",
        "colab": {}
      },
      "source": [
        "from google.colab import files\n",
        "files.download('submission11.csv')"
      ],
      "execution_count": 0,
      "outputs": []
    },
    {
      "cell_type": "code",
      "metadata": {
        "id": "YfwVw-HmqK2f",
        "colab_type": "code",
        "colab": {}
      },
      "source": [
        ""
      ],
      "execution_count": 0,
      "outputs": []
    }
  ]
}